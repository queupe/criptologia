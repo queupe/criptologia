{
  "nbformat": 4,
  "nbformat_minor": 0,
  "metadata": {
    "colab": {
      "name": "Criptologia.ipynb",
      "provenance": [],
      "collapsed_sections": [],
      "authorship_tag": "ABX9TyNFb4D3mKL3Ax4zj+AJFBAG",
      "include_colab_link": true
    },
    "kernelspec": {
      "name": "python3",
      "display_name": "Python 3"
    },
    "language_info": {
      "name": "python"
    }
  },
  "cells": [
    {
      "cell_type": "markdown",
      "metadata": {
        "id": "view-in-github",
        "colab_type": "text"
      },
      "source": [
        "<a href=\"https://colab.research.google.com/github/queupe/criptologia/blob/main/Criptologia.ipynb\" target=\"_parent\"><img src=\"https://colab.research.google.com/assets/colab-badge.svg\" alt=\"Open In Colab\"/></a>"
      ]
    },
    {
      "cell_type": "markdown",
      "source": [
        "# **Criptologia**\n",
        "Prof. Dr. Vilc Queupe **Rufino**"
      ],
      "metadata": {
        "id": "AY3I62eLfIz1"
      }
    },
    {
      "cell_type": "code",
      "execution_count": 1,
      "metadata": {
        "colab": {
          "base_uri": "https://localhost:8080/"
        },
        "id": "DJKbtAfFfCwl",
        "outputId": "ebb1ed9a-c8cd-466f-b72a-d8b9ab5af271"
      },
      "outputs": [
        {
          "output_type": "stream",
          "name": "stdout",
          "text": [
            "Collecting pycryptodome\n",
            "  Downloading pycryptodome-3.14.0-cp35-abi3-manylinux2010_x86_64.whl (2.0 MB)\n",
            "\u001b[K     |████████████████████████████████| 2.0 MB 8.8 MB/s \n",
            "\u001b[?25hInstalling collected packages: pycryptodome\n",
            "Successfully installed pycryptodome-3.14.0\n"
          ]
        }
      ],
      "source": [
        "!pip install pycryptodome"
      ]
    },
    {
      "cell_type": "markdown",
      "source": [
        "**Operações Bit a Bit**"
      ],
      "metadata": {
        "id": "HxEdmlGWjSrn"
      }
    },
    {
      "cell_type": "code",
      "source": [
        "a = 0xA\n",
        "b = 0xC\n",
        "f = 0xF\n",
        "\n",
        "print(f\"{a:04b} -> a\")\n",
        "print(f\"{b:04b} -> b\")\n",
        "print(f\"{a & b:04b} -> a AND b\")\n",
        "print(f\"{a | b:04b} -> a OR b\")\n",
        "print(f\"{a ^ b:04b} -> a XOR b\")\n",
        "print(f\"{~a:04b} -> NOT a (complemento)\")\n",
        "print(f\"{a ^ f:04b} -> NOT a (XOR com F)\")"
      ],
      "metadata": {
        "colab": {
          "base_uri": "https://localhost:8080/"
        },
        "id": "T7g34DcwjSLw",
        "outputId": "67890ffa-aeb6-4583-ac75-521b80b208f4"
      },
      "execution_count": 2,
      "outputs": [
        {
          "output_type": "stream",
          "name": "stdout",
          "text": [
            "1010 -> a\n",
            "1100 -> b\n",
            "1000 -> a AND b\n",
            "1110 -> a OR b\n",
            "0110 -> a XOR b\n",
            "-1011 -> NOT a (complemento)\n",
            "0101 -> NOT a (XOR com F)\n"
          ]
        }
      ]
    },
    {
      "cell_type": "markdown",
      "source": [
        "**Tabela de valores binarios e respectivos decimais e hexadecimais**"
      ],
      "metadata": {
        "id": "X_xopbNV4WdU"
      }
    },
    {
      "cell_type": "code",
      "source": [
        "txt = ''\n",
        "for i in range(256):\n",
        "  txt += f\"{i:03d}: {i:02x}: {i:08b}\\t\".upper()\n",
        "  if ((i+1) % 8) == 0:\n",
        "    print(txt)\n",
        "    txt = ''\n",
        "print(txt)"
      ],
      "metadata": {
        "colab": {
          "base_uri": "https://localhost:8080/"
        },
        "id": "PQEQAFZo1kfa",
        "outputId": "82ff75bf-6b33-446d-ac7a-fc4a3f68b233"
      },
      "execution_count": 3,
      "outputs": [
        {
          "output_type": "stream",
          "name": "stdout",
          "text": [
            "000: 00: 00000000\t001: 01: 00000001\t002: 02: 00000010\t003: 03: 00000011\t004: 04: 00000100\t005: 05: 00000101\t006: 06: 00000110\t007: 07: 00000111\t\n",
            "008: 08: 00001000\t009: 09: 00001001\t010: 0A: 00001010\t011: 0B: 00001011\t012: 0C: 00001100\t013: 0D: 00001101\t014: 0E: 00001110\t015: 0F: 00001111\t\n",
            "016: 10: 00010000\t017: 11: 00010001\t018: 12: 00010010\t019: 13: 00010011\t020: 14: 00010100\t021: 15: 00010101\t022: 16: 00010110\t023: 17: 00010111\t\n",
            "024: 18: 00011000\t025: 19: 00011001\t026: 1A: 00011010\t027: 1B: 00011011\t028: 1C: 00011100\t029: 1D: 00011101\t030: 1E: 00011110\t031: 1F: 00011111\t\n",
            "032: 20: 00100000\t033: 21: 00100001\t034: 22: 00100010\t035: 23: 00100011\t036: 24: 00100100\t037: 25: 00100101\t038: 26: 00100110\t039: 27: 00100111\t\n",
            "040: 28: 00101000\t041: 29: 00101001\t042: 2A: 00101010\t043: 2B: 00101011\t044: 2C: 00101100\t045: 2D: 00101101\t046: 2E: 00101110\t047: 2F: 00101111\t\n",
            "048: 30: 00110000\t049: 31: 00110001\t050: 32: 00110010\t051: 33: 00110011\t052: 34: 00110100\t053: 35: 00110101\t054: 36: 00110110\t055: 37: 00110111\t\n",
            "056: 38: 00111000\t057: 39: 00111001\t058: 3A: 00111010\t059: 3B: 00111011\t060: 3C: 00111100\t061: 3D: 00111101\t062: 3E: 00111110\t063: 3F: 00111111\t\n",
            "064: 40: 01000000\t065: 41: 01000001\t066: 42: 01000010\t067: 43: 01000011\t068: 44: 01000100\t069: 45: 01000101\t070: 46: 01000110\t071: 47: 01000111\t\n",
            "072: 48: 01001000\t073: 49: 01001001\t074: 4A: 01001010\t075: 4B: 01001011\t076: 4C: 01001100\t077: 4D: 01001101\t078: 4E: 01001110\t079: 4F: 01001111\t\n",
            "080: 50: 01010000\t081: 51: 01010001\t082: 52: 01010010\t083: 53: 01010011\t084: 54: 01010100\t085: 55: 01010101\t086: 56: 01010110\t087: 57: 01010111\t\n",
            "088: 58: 01011000\t089: 59: 01011001\t090: 5A: 01011010\t091: 5B: 01011011\t092: 5C: 01011100\t093: 5D: 01011101\t094: 5E: 01011110\t095: 5F: 01011111\t\n",
            "096: 60: 01100000\t097: 61: 01100001\t098: 62: 01100010\t099: 63: 01100011\t100: 64: 01100100\t101: 65: 01100101\t102: 66: 01100110\t103: 67: 01100111\t\n",
            "104: 68: 01101000\t105: 69: 01101001\t106: 6A: 01101010\t107: 6B: 01101011\t108: 6C: 01101100\t109: 6D: 01101101\t110: 6E: 01101110\t111: 6F: 01101111\t\n",
            "112: 70: 01110000\t113: 71: 01110001\t114: 72: 01110010\t115: 73: 01110011\t116: 74: 01110100\t117: 75: 01110101\t118: 76: 01110110\t119: 77: 01110111\t\n",
            "120: 78: 01111000\t121: 79: 01111001\t122: 7A: 01111010\t123: 7B: 01111011\t124: 7C: 01111100\t125: 7D: 01111101\t126: 7E: 01111110\t127: 7F: 01111111\t\n",
            "128: 80: 10000000\t129: 81: 10000001\t130: 82: 10000010\t131: 83: 10000011\t132: 84: 10000100\t133: 85: 10000101\t134: 86: 10000110\t135: 87: 10000111\t\n",
            "136: 88: 10001000\t137: 89: 10001001\t138: 8A: 10001010\t139: 8B: 10001011\t140: 8C: 10001100\t141: 8D: 10001101\t142: 8E: 10001110\t143: 8F: 10001111\t\n",
            "144: 90: 10010000\t145: 91: 10010001\t146: 92: 10010010\t147: 93: 10010011\t148: 94: 10010100\t149: 95: 10010101\t150: 96: 10010110\t151: 97: 10010111\t\n",
            "152: 98: 10011000\t153: 99: 10011001\t154: 9A: 10011010\t155: 9B: 10011011\t156: 9C: 10011100\t157: 9D: 10011101\t158: 9E: 10011110\t159: 9F: 10011111\t\n",
            "160: A0: 10100000\t161: A1: 10100001\t162: A2: 10100010\t163: A3: 10100011\t164: A4: 10100100\t165: A5: 10100101\t166: A6: 10100110\t167: A7: 10100111\t\n",
            "168: A8: 10101000\t169: A9: 10101001\t170: AA: 10101010\t171: AB: 10101011\t172: AC: 10101100\t173: AD: 10101101\t174: AE: 10101110\t175: AF: 10101111\t\n",
            "176: B0: 10110000\t177: B1: 10110001\t178: B2: 10110010\t179: B3: 10110011\t180: B4: 10110100\t181: B5: 10110101\t182: B6: 10110110\t183: B7: 10110111\t\n",
            "184: B8: 10111000\t185: B9: 10111001\t186: BA: 10111010\t187: BB: 10111011\t188: BC: 10111100\t189: BD: 10111101\t190: BE: 10111110\t191: BF: 10111111\t\n",
            "192: C0: 11000000\t193: C1: 11000001\t194: C2: 11000010\t195: C3: 11000011\t196: C4: 11000100\t197: C5: 11000101\t198: C6: 11000110\t199: C7: 11000111\t\n",
            "200: C8: 11001000\t201: C9: 11001001\t202: CA: 11001010\t203: CB: 11001011\t204: CC: 11001100\t205: CD: 11001101\t206: CE: 11001110\t207: CF: 11001111\t\n",
            "208: D0: 11010000\t209: D1: 11010001\t210: D2: 11010010\t211: D3: 11010011\t212: D4: 11010100\t213: D5: 11010101\t214: D6: 11010110\t215: D7: 11010111\t\n",
            "216: D8: 11011000\t217: D9: 11011001\t218: DA: 11011010\t219: DB: 11011011\t220: DC: 11011100\t221: DD: 11011101\t222: DE: 11011110\t223: DF: 11011111\t\n",
            "224: E0: 11100000\t225: E1: 11100001\t226: E2: 11100010\t227: E3: 11100011\t228: E4: 11100100\t229: E5: 11100101\t230: E6: 11100110\t231: E7: 11100111\t\n",
            "232: E8: 11101000\t233: E9: 11101001\t234: EA: 11101010\t235: EB: 11101011\t236: EC: 11101100\t237: ED: 11101101\t238: EE: 11101110\t239: EF: 11101111\t\n",
            "240: F0: 11110000\t241: F1: 11110001\t242: F2: 11110010\t243: F3: 11110011\t244: F4: 11110100\t245: F5: 11110101\t246: F6: 11110110\t247: F7: 11110111\t\n",
            "248: F8: 11111000\t249: F9: 11111001\t250: FA: 11111010\t251: FB: 11111011\t252: FC: 11111100\t253: FD: 11111101\t254: FE: 11111110\t255: FF: 11111111\t\n",
            "\n"
          ]
        }
      ]
    },
    {
      "cell_type": "markdown",
      "source": [
        "**Construção de cifras simples**"
      ],
      "metadata": {
        "id": "OBQfphcDq5g3"
      }
    },
    {
      "cell_type": "markdown",
      "source": [
        "**Definição 2.1 {Douglas R. Stinson, 4$^a$Ed.}**:\n",
        "\n",
        "Um criptossistema é uma 5-tupla $(\\mathcal{P}, \\mathcal{C}, \\mathcal{K}, \\mathcal{E}, \\mathcal{D})$, onde as seguintes condições são satisfeitas:\n",
        "\n",
        "\n",
        "\n",
        "1.   $\\mathcal{P}$ é um conjunto finito de possíveis **textos em claro**; \n",
        "2.   $\\mathcal{C}$ é um conjunto finito de possíveis **textos cifrados**;\n",
        "3.   $\\mathcal{K}$ é um conjunto finito de possíveis **chaves**, o espaço de chaves;\n",
        "4.   Para cada $k \\in \\mathcal{K}$ existe uma função de encriptação $e_k \\in \\mathcal{E}$, e a correspondente função de decriptação $d_k \\in \\mathcal{D}$. Tal que $e_k: \\mathcal{P} → \\mathcal{C}$ e $d_k: \\mathcal{C} → \\mathcal{P}$ são funções as quais $d_k(e_k(p))=p$ para todo texto em claro $p \\in \\mathcal{P}$;\n",
        "\n",
        "\n",
        "\n",
        "**Definição Rufino**:\n",
        "\n",
        "Seja:\n",
        "*   $\\mathcal{P}$ conjunto de todos os textos em claro possíveis;\n",
        "*   $\\mathcal{K}$ conjunto de todas as chaves possíveis;\n",
        "*   $\\mathcal{C}$ conjunto de todos os textos cifrados possíveis;\n",
        "*   $p \\in \\mathcal{P}$ uma instância de um texto em claro;\n",
        "*   $k \\in \\mathcal{K}$ uma instância de chave criptográfica;\n",
        "*   $C_k \\in \\mathcal{C}$ uma instância de texto cifrado com a chave $k$;\n",
        "*   $\\mathcal{E}$ conjunto de todas as funções de criptografia;\n",
        "*   $\\mathcal{D}$ conjunto de todas as funções de decriptografia.\n",
        "\n",
        "Onde $\\forall\\, k,$:\n",
        "*   $\\{∃\\, e_k \\in \\mathcal{E}\\mid e_k: p → c_k\\}$ e\n",
        "*   $\\{∃\\, d_k \\in \\mathcal{D}\\mid d_k: c_k → p\\}$,\n",
        "*   Tal que: $d_k(e_k(p))=p$\n"
      ],
      "metadata": {
        "id": "07yCZ3xQIymZ"
      }
    },
    {
      "cell_type": "markdown",
      "source": [
        "**Cifra de Substituição**\n",
        "*   $\\mathcal{P}:$  é o conjunto de letras do alfabeto;\n",
        "*   $\\mathcal{C}:$  é o conjunto de letras do alfabeto;\n",
        "*   $\\mathcal{K}:$  é o conjunto de valores inteiros positivos de 1 até 23 (qtd letras do alfabeto);\n",
        "*   $e_k \\in \\mathcal{E} \\mid e_k(p) = p + k = c_k$  \n",
        "*   $d_k \\in \\mathcal{D} \\mid d_k(c) = p - k = p$\n",
        "\n",
        "Em especial, quando $k=3$, o criptossistema é conhecido como a Cifra de César, atribuída ao imperador do Império Romano.\n"
      ],
      "metadata": {
        "id": "VK2ThtSw1CrM"
      }
    },
    {
      "cell_type": "code",
      "source": [
        "# Cifra de César\n",
        "def encif_cesar(p, k):\n",
        "  aux = list()\n",
        "  value = 0\n",
        "  for x in p:\n",
        "    if  ord(x) >= ord('A') and ord(x) <= ord('Z'):\n",
        "      # Letras maiúsculas\n",
        "      value = ((ord(x) - ord('A') + k) % (ord('Z') - ord('A')+1)) + ord('A')\n",
        "    elif ord(x) >= ord('a') and ord(x) <= ord('z'):\n",
        "      value = ((ord(x) - ord('a') + k) % (ord('z') - ord('a')+1)) + ord('a')\n",
        "    else:\n",
        "      value = ord(x)\n",
        "    aux.append(chr(value))\n",
        "  return  \"\".join(aux)\n",
        "\n",
        "def decif_cesar(p, k):\n",
        "  aux = list()\n",
        "  value = 0\n",
        "  for x in p:\n",
        "    if  ord(x) >= ord('A') and ord(x) <= ord('Z'):\n",
        "      # Letras maiúsculas\n",
        "      value = ((ord(x) - ord('A') - k) % (ord('Z') - ord('A')+1)) + ord('A')\n",
        "    elif ord(x) >= ord('a') and ord(x) <= ord('z'):\n",
        "      value = ((ord(x) - ord('a') - k) % (ord('z') - ord('a')+1)) + ord('a')\n",
        "    else:\n",
        "      value = ord(x)\n",
        "    aux.append(chr(value))\n",
        "  return  \"\".join(aux)\n"
      ],
      "metadata": {
        "id": "Xmi6PDIv3IdR"
      },
      "execution_count": 6,
      "outputs": []
    },
    {
      "cell_type": "code",
      "source": [
        "texto_claro = \"the quick brown fox jumps over the lazy dog\"\n",
        "texto_claro += \" \" + texto_claro.upper()\n",
        "key = 3\n",
        "\n",
        "texto_cifrado = encif_cesar(texto_claro,key)\n",
        "texto_decifrado = decif_cesar(texto_cifrado, key)\n",
        "\n",
        "print(f\"Texto claro    : {texto_claro}\")\n",
        "print(f\"Texto cifrado  : {texto_cifrado}\")\n",
        "print(f\"Texto decifrado: {texto_decifrado}\")"
      ],
      "metadata": {
        "colab": {
          "base_uri": "https://localhost:8080/"
        },
        "id": "FQ79dNjDhwgR",
        "outputId": "c49d1fc1-7e5c-4101-bebd-2d2c2341c75e"
      },
      "execution_count": 7,
      "outputs": [
        {
          "output_type": "stream",
          "name": "stdout",
          "text": [
            "Texto claro    : the quick brown fox jumps over the lazy dog THE QUICK BROWN FOX JUMPS OVER THE LAZY DOG\n",
            "Texto cifrado  : wkh txlfn eurzq ira mxpsv ryhu wkh odcb grj WKH TXLFN EURZQ IRA MXPSV RYHU WKH ODCB GRJ\n",
            "Texto decifrado: the quick brown fox jumps over the lazy dog THE QUICK BROWN FOX JUMPS OVER THE LAZY DOG\n"
          ]
        }
      ]
    },
    {
      "cell_type": "markdown",
      "source": [
        "Exercício:\n",
        "1. Use as funções acima e descubra a seguinte mensagem:\n",
        "\"Pdulqkd gr Eudvlo, surwhjhqgr qrvvdv ultxhcdv, fxlgdqgr gd qrvvd jhqwh\""
      ],
      "metadata": {
        "id": "jdknt_7GBOmb"
      }
    },
    {
      "cell_type": "code",
      "source": [
        "texto_cifrado = \"Pdulqkd gr Eudvlo, surwhjhqgr qrvvdv ultxhcdv, fxlgdqgr gd qrvvd jhqwh\""
      ],
      "metadata": {
        "id": "vrUMqoB45StH"
      },
      "execution_count": 8,
      "outputs": []
    },
    {
      "cell_type": "markdown",
      "source": [
        "**Operando com cifras AES**"
      ],
      "metadata": {
        "id": "0_JtXZATr3D2"
      }
    },
    {
      "cell_type": "code",
      "source": [
        "from Crypto.Cipher import AES\n",
        "from Crypto.Random import get_random_bytes\n",
        "\n",
        "data = b'secret data'\n",
        "\n",
        "key = get_random_bytes(16)\n",
        "cipher = AES.new(key, AES.MODE_EAX)\n",
        "ciphertext, tag = cipher.encrypt_and_digest(data)\n",
        "txt = ''\n",
        "with open(\"encrypted.bin\", 'wb') as f:\n",
        "  for x in (cipher.nonce, tag, ciphertext):\n",
        "    f.write(x)\n",
        "    txt += x.hex()\n",
        "\n",
        "print(f\"Texto legível: {len(data):03d} : {data}\")\n",
        "print(f\"Texto claro  : {len(data):03d} : {data.hex()}\" )\n",
        "print(f\"Texto cifrado: {len(txt)//2:03d} : {txt.upper()}\")\n"
      ],
      "metadata": {
        "colab": {
          "base_uri": "https://localhost:8080/"
        },
        "id": "BPlsuII3f6rw",
        "outputId": "4cc2ca52-3161-4cd5-e2d0-0c612c30ac1c"
      },
      "execution_count": null,
      "outputs": [
        {
          "output_type": "stream",
          "name": "stdout",
          "text": [
            "Texto legível: 011 : b'secret data'\n",
            "Texto claro  : 011 : 7365637265742064617461\n",
            "Texto cifrado: 043 : 6729A2FFCD8EC58E66E4F0BCD13E4791720086B9EC51D8E18CAE0E22166EE583EECFF071B5625E04176E38\n"
          ]
        }
      ]
    },
    {
      "cell_type": "code",
      "source": [
        "from Crypto.Cipher import AES\n",
        "\n",
        "#file_in = open(\"encrypted.bin\", \"rb\")\n",
        "#nonce, tag, ciphertext = [ file_in.read(x) for x in (16, 16, -1) ]\n",
        "\n",
        "with open(\"encrypted.bin\", \"rb\") as f:\n",
        "  nonce, tag, ciphertext = [ f.read(x) for x in (16, 16, -1) ]\n",
        "\n",
        "txt = nonce.hex() + tag.hex() + ciphertext.hex()\n",
        "\n",
        "# let's assume that the key is somehow available again\n",
        "cipher = AES.new(key, AES.MODE_EAX, nonce)\n",
        "data = cipher.decrypt_and_verify(ciphertext, tag)\n",
        "\n",
        "print(f\"Texto cifrado: {len(txt)//2:03d} : {txt.upper()}\")\n",
        "print(f\"Texto claro  : {len(data):03d} : {data.hex()}\" )\n",
        "print(f\"Texto legível: {len(data):03d} : {data}\")\n"
      ],
      "metadata": {
        "colab": {
          "base_uri": "https://localhost:8080/"
        },
        "id": "HY_aOY96f8kx",
        "outputId": "f93e7ff5-bab3-4c76-c960-74c716bfffe3"
      },
      "execution_count": null,
      "outputs": [
        {
          "output_type": "stream",
          "name": "stdout",
          "text": [
            "Texto cifrado: 043 : 6729A2FFCD8EC58E66E4F0BCD13E4791720086B9EC51D8E18CAE0E22166EE583EECFF071B5625E04176E38\n",
            "Texto claro  : 011 : 7365637265742064617461\n",
            "Texto legível: 011 : b'secret data'\n"
          ]
        }
      ]
    },
    {
      "cell_type": "markdown",
      "source": [
        "**Operando com Cifras RSA**"
      ],
      "metadata": {
        "id": "2c2sGoHwr9Ck"
      }
    },
    {
      "cell_type": "code",
      "source": [
        "from Crypto.PublicKey import RSA\n",
        "\n",
        "key = RSA.generate(2048)\n",
        "private_key = key.export_key()\n",
        "with open(\"private.pem\", \"wb\") as f:\n",
        "  f.write(private_key)\n",
        "\n",
        "public_key = key.publickey().export_key()\n",
        "with open(\"public.pem\", \"wb\") as f:\n",
        "  f.write(public_key)\n",
        "\n",
        "print(f\"Chave Priv: {len(private_key)} : {private_key.hex().upper()}\")\n",
        "print(f\"Chave Públ: {len(public_key)} : {public_key.hex().upper()}\")\n"
      ],
      "metadata": {
        "colab": {
          "base_uri": "https://localhost:8080/"
        },
        "id": "2ur4N9vlr_-E",
        "outputId": "8a0c18e1-d9d7-41e0-e11f-c6fdf123eea5"
      },
      "execution_count": null,
      "outputs": [
        {
          "output_type": "stream",
          "name": "stdout",
          "text": [
            "Chave Priv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n",
            "Chave Públ: 450 : 2D2D2D2D2D424547494E205055424C4943204B45592D2D2D2D2D0A4D494942496A414E42676B71686B6947397730424151454641414F43415138414D49494243674B434151454172333167566B5257506D7743505A413150635A570A6D4A2B6437706D6F755A66746D4B66754D725177786E395162694666667374516E7541616749432F3035534273734C676F4D513776634D5548465453664273550A6D6B46465339547A64416B664E6335504D4F4A7143636E65694B5338794A71726B4B6E574E4D45314E70476C2F2B475750596A5669393449336831587A6331700A6335694859473750384B6A4E646D506A4768622B67554A373244634C334D663642526367305774394D4A67417243594C5267697469496C414F2B487A67556F330A4373526D62326E334432626853355769576644786854586A2F2B795953477163443667737149684B31717A6D744344754C2B6233496C2B732B33584A7535552F0A764F4F307A4A536D78556F4F514374592F3570734F345A6D51696E674272644E457871555034347243664A394A547744495957666B69374171444968364676730A46514944415141420A2D2D2D2D2D454E44205055424C4943204B45592D2D2D2D2D\n"
          ]
        }
      ]
    },
    {
      "cell_type": "markdown",
      "source": [
        "**Cifrando com RSA**"
      ],
      "metadata": {
        "id": "y4olN2ckuTM1"
      }
    },
    {
      "cell_type": "code",
      "source": [
        "from Crypto.PublicKey import RSA\n",
        "from Crypto.Random import get_random_bytes\n",
        "from Crypto.Cipher import AES, PKCS1_OAEP\n",
        "\n",
        "data = \"I met aliens in UFO. Here is the map.\".encode(\"utf-8\")\n",
        "\n",
        "public_key = RSA.import_key(open(\"public.pem\").read())\n",
        "session_key = get_random_bytes(16)\n",
        "\n",
        "# Encrypt the session key with the public RSA key\n",
        "cipher_rsa = PKCS1_OAEP.new(public_key)\n",
        "enc_session_key = cipher_rsa.encrypt(session_key)\n",
        "\n",
        "# Encrypt the data with the AES session key\n",
        "cipher_aes = AES.new(session_key, AES.MODE_EAX)\n",
        "ciphertext, tag = cipher_aes.encrypt_and_digest(data)\n",
        "\n",
        "with open(\"encrypted_data.bin\", \"wb\") as f:\n",
        "  for x in (enc_session_key, cipher_aes.nonce, tag, ciphertext):\n",
        "    f.write(x)\n",
        "\n",
        "txt = enc_session_key.hex() + cipher_aes.nonce.hex() + tag.hex() + ciphertext.hex()\n",
        "\n",
        "print(f\"Texto claro  : {len(data.hex()):03d} : {data.hex().upper()}\" )\n",
        "print(f\"Chave sessao : {len(session_key.hex()):03d} : {session_key.hex()}\" )\n",
        "print(f\"Cif Ch sessao: {len(enc_session_key.hex()):03d} : {enc_session_key.hex()}\")\n",
        "print(f\"Cif Nonce    : {len(cipher_aes.nonce.hex()):03d} : {cipher_aes.nonce.hex()}\")\n",
        "print(f\"Cif Tag      : {len(tag.hex()):03d} : {tag.hex()}\")\n",
        "print(f\"Texto cifrado: {len(ciphertext.hex()):03d} : {ciphertext.hex().upper()}\")\n"
      ],
      "metadata": {
        "colab": {
          "base_uri": "https://localhost:8080/"
        },
        "id": "qd6vNFtuuWfz",
        "outputId": "839c9e1c-0e0b-4b47-f890-917e58a26be5"
      },
      "execution_count": null,
      "outputs": [
        {
          "output_type": "stream",
          "name": "stdout",
          "text": [
            "Texto claro  : 074 : 49206D657420616C69656E7320696E2055464F2E204865726520697320746865206D61702E\n",
            "Chave sessao : 032 : 2e6fe378315f62f54342b1ff667e181a\n",
            "Cif Ch sessao: 512 : 46e1ac7badf7f8935dcc127ce45aaa89f2e86f80a209c7055b97bde73c9c708889f74ced1deab128e5935db45bcdfd4dc98a026c72038d4652158525ea86e3180e575a6e8022935e3f2a1f52e756a7297aa3a8a8eecdf28fd919b2206be5df2f8212024dba7422d3ae4716e0ec2db3c57f242963f25feb4db0ab041d789d90923e5ca4be20c599c5b234bada983b827acd12b8baa0c2fecec83df57b21d8ba10648d10c7bed52997d28d30662d5ca151a93e21e66d3a1631099207ac26dee75f4e3308382c9f89fb3eebfdb6534b26ef4da10c0400a7545d6f2648637fdc485793e6f2fc58379ce76005b923d255eab24a795d50ab7b4f751f62e8dcbbb104d9\n",
            "Cif Nonce    : 032 : 28fd3ece9d313d65e6d5efd1e49a440a\n",
            "Cif Tag      : 032 : 3a9f082085af418c774f597eb7ccc77e\n",
            "Texto cifrado: 074 : 40E3EAF8E8AC420B9E9E5871C609ABA87A0FB669BC31B85B6BA97DDD7B6FCD9AD092ED0B68\n"
          ]
        }
      ]
    },
    {
      "cell_type": "code",
      "source": [
        "from Crypto.PublicKey import RSA\n",
        "from Crypto.Cipher import AES, PKCS1_OAEP\n",
        "\n",
        "file_in = open(\"encrypted_data.bin\", \"rb\")\n",
        "\n",
        "private_key = RSA.import_key(open(\"private.pem\").read())\n",
        "\n",
        "enc_session_key, nonce, tag, ciphertext = [ file_in.read(x) for x in (private_key.size_in_bytes(), 16, 16, -1) ]\n",
        "\n",
        "# Decrypt the session key with the private RSA key\n",
        "cipher_rsa = PKCS1_OAEP.new(private_key)\n",
        "session_key = cipher_rsa.decrypt(enc_session_key)\n",
        "\n",
        "# Decrypt the data with the AES session key\n",
        "cipher_aes = AES.new(session_key, AES.MODE_EAX, nonce)\n",
        "data = cipher_aes.decrypt_and_verify(ciphertext, tag)\n",
        "print(data.decode(\"utf-8\"))"
      ],
      "metadata": {
        "colab": {
          "base_uri": "https://localhost:8080/"
        },
        "id": "cijBnkENwjbr",
        "outputId": "d7bf8f80-4427-47e0-eb5c-8d3a387ef5fb"
      },
      "execution_count": null,
      "outputs": [
        {
          "output_type": "stream",
          "name": "stdout",
          "text": [
            "I met aliens in UFO. Here is the map.\n"
          ]
        }
      ]
    },
    {
      "cell_type": "markdown",
      "source": [
        "Assinando"
      ],
      "metadata": {
        "id": "F8xv3N5s2u9a"
      }
    },
    {
      "cell_type": "code",
      "source": [
        ""
      ],
      "metadata": {
        "id": "LtBU5twM205K"
      },
      "execution_count": null,
      "outputs": []
    },
    {
      "cell_type": "markdown",
      "source": [
        ""
      ],
      "metadata": {
        "id": "VBG85NtafHqG"
      }
    },
    {
      "cell_type": "code",
      "source": [
        ""
      ],
      "metadata": {
        "id": "Yz2LLOZc20XD"
      },
      "execution_count": null,
      "outputs": []
    },
    {
      "cell_type": "markdown",
      "source": [
        "**Curvas Elípticas**"
      ],
      "metadata": {
        "id": "BgwkC_JX24Qh"
      }
    },
    {
      "cell_type": "code",
      "source": [
        "from Crypto.PublicKey import ECC\n",
        "\n",
        "key = ECC.generate(curve='P-256')\n",
        "\n",
        "with open('myprivatekey.pem','wt') as f:\n",
        "  f.write(key.export_key(format='PEM'))\n",
        "\n",
        "#f = open('myprivatekey.pem','rt')\n",
        "#key = ECC.import_key(f.read())\n"
      ],
      "metadata": {
        "id": "rNvxOxYf23bs"
      },
      "execution_count": null,
      "outputs": []
    },
    {
      "cell_type": "code",
      "source": [
        "from Crypto.PublicKey import ECC\n",
        "\n",
        "key = ECC.generate(curve='P-256')\n",
        "\n",
        "private_key = key.export_key(format='PEM')\n",
        "with open(\"ecc_private.der\", \"wb\") as f:\n",
        "  f.write(private_key)\n",
        "\n",
        "public_key = key.public_key().export_key(format='DER')\n",
        "with open(\"ecc_public.der\", \"wb\") as f:\n",
        "  f.write(public_key)\n",
        "\n",
        "print(f\"Chave Priv: {len(private_key.hex())} : {private_key.hex()}\")\n",
        "print(f\"Chave Públ: {len(public_key.hex())} : {public_key.hex()}\")"
      ],
      "metadata": {
        "colab": {
          "base_uri": "https://localhost:8080/",
          "height": 237
        },
        "id": "dLcwb_xA21Rb",
        "outputId": "036d9914-c87e-4dfc-b1a1-75295ab4529f"
      },
      "execution_count": null,
      "outputs": [
        {
          "output_type": "error",
          "ename": "TypeError",
          "evalue": "ignored",
          "traceback": [
            "\u001b[0;31m---------------------------------------------------------------------------\u001b[0m",
            "\u001b[0;31mTypeError\u001b[0m                                 Traceback (most recent call last)",
            "\u001b[0;32m<ipython-input-79-523560420c5f>\u001b[0m in \u001b[0;36m<module>\u001b[0;34m()\u001b[0m\n\u001b[1;32m      5\u001b[0m \u001b[0mprivate_key\u001b[0m \u001b[0;34m=\u001b[0m \u001b[0mkey\u001b[0m\u001b[0;34m.\u001b[0m\u001b[0mexport_key\u001b[0m\u001b[0;34m(\u001b[0m\u001b[0mformat\u001b[0m\u001b[0;34m=\u001b[0m\u001b[0;34m'PEM'\u001b[0m\u001b[0;34m)\u001b[0m\u001b[0;34m\u001b[0m\u001b[0;34m\u001b[0m\u001b[0m\n\u001b[1;32m      6\u001b[0m \u001b[0;32mwith\u001b[0m \u001b[0mopen\u001b[0m\u001b[0;34m(\u001b[0m\u001b[0;34m\"ecc_private.der\"\u001b[0m\u001b[0;34m,\u001b[0m \u001b[0;34m\"wb\"\u001b[0m\u001b[0;34m)\u001b[0m \u001b[0;32mas\u001b[0m \u001b[0mf\u001b[0m\u001b[0;34m:\u001b[0m\u001b[0;34m\u001b[0m\u001b[0;34m\u001b[0m\u001b[0m\n\u001b[0;32m----> 7\u001b[0;31m   \u001b[0mf\u001b[0m\u001b[0;34m.\u001b[0m\u001b[0mwrite\u001b[0m\u001b[0;34m(\u001b[0m\u001b[0mprivate_key\u001b[0m\u001b[0;34m)\u001b[0m\u001b[0;34m\u001b[0m\u001b[0;34m\u001b[0m\u001b[0m\n\u001b[0m\u001b[1;32m      8\u001b[0m \u001b[0;34m\u001b[0m\u001b[0m\n\u001b[1;32m      9\u001b[0m \u001b[0mpublic_key\u001b[0m \u001b[0;34m=\u001b[0m \u001b[0mkey\u001b[0m\u001b[0;34m.\u001b[0m\u001b[0mpublic_key\u001b[0m\u001b[0;34m(\u001b[0m\u001b[0;34m)\u001b[0m\u001b[0;34m.\u001b[0m\u001b[0mexport_key\u001b[0m\u001b[0;34m(\u001b[0m\u001b[0mformat\u001b[0m\u001b[0;34m=\u001b[0m\u001b[0;34m'DER'\u001b[0m\u001b[0;34m)\u001b[0m\u001b[0;34m\u001b[0m\u001b[0;34m\u001b[0m\u001b[0m\n",
            "\u001b[0;31mTypeError\u001b[0m: a bytes-like object is required, not 'str'"
          ]
        }
      ]
    },
    {
      "cell_type": "markdown",
      "source": [
        "# Nova seção"
      ],
      "metadata": {
        "id": "TtZwEblQ-xby"
      }
    }
  ]
}