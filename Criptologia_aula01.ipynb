{
  "nbformat": 4,
  "nbformat_minor": 0,
  "metadata": {
    "colab": {
      "name": "Criptologia_aula01.ipynb",
      "provenance": [],
      "collapsed_sections": [],
      "authorship_tag": "ABX9TyM1ptEGpe7i6JRv/xrtxRW9",
      "include_colab_link": true
    },
    "kernelspec": {
      "name": "python3",
      "display_name": "Python 3"
    },
    "language_info": {
      "name": "python"
    }
  },
  "cells": [
    {
      "cell_type": "markdown",
      "metadata": {
        "id": "view-in-github",
        "colab_type": "text"
      },
      "source": [
        "<a href=\"https://colab.research.google.com/github/queupe/criptologia/blob/main/Criptologia_aula01.ipynb\" target=\"_parent\"><img src=\"https://colab.research.google.com/assets/colab-badge.svg\" alt=\"Open In Colab\"/></a>"
      ]
    },
    {
      "cell_type": "markdown",
      "source": [
        "# **Criptologia**\n"
      ],
      "metadata": {
        "id": "AY3I62eLfIz1"
      }
    },
    {
      "cell_type": "markdown",
      "source": [
        "**Laboratório de criptologia**\n",
        "\n",
        "Prof. Dr. Vilc Queupe **Rufino**"
      ],
      "metadata": {
        "id": "1ZXFdn481Wtg"
      }
    },
    {
      "cell_type": "markdown",
      "source": [
        "# **Aula 1**\n",
        "\n",
        "**Ambiente de programação e Cifras Clássicas**"
      ],
      "metadata": {
        "id": "c67As79Lczcp"
      }
    },
    {
      "cell_type": "code",
      "execution_count": null,
      "metadata": {
        "colab": {
          "base_uri": "https://localhost:8080/"
        },
        "id": "DJKbtAfFfCwl",
        "outputId": "9f7dd72c-8e61-416f-fd89-d4cb056c676d"
      },
      "outputs": [
        {
          "output_type": "stream",
          "name": "stdout",
          "text": [
            "Collecting pycryptodome\n",
            "  Downloading pycryptodome-3.14.1-cp35-abi3-manylinux2010_x86_64.whl (2.0 MB)\n",
            "\u001b[K     |████████████████████████████████| 2.0 MB 4.4 MB/s \n",
            "\u001b[?25hInstalling collected packages: pycryptodome\n",
            "Successfully installed pycryptodome-3.14.1\n"
          ]
        }
      ],
      "source": [
        "# Biblioteca a ser instalada para realização das atividades\n",
        "# Deve ser recarregada a cada instância Colab\n",
        "!pip install pycryptodome"
      ]
    },
    {
      "cell_type": "markdown",
      "source": [
        "# Funções básicas"
      ],
      "metadata": {
        "id": "wafG6weU1VZk"
      }
    },
    {
      "cell_type": "markdown",
      "source": [
        "**Operações Bit a Bit**"
      ],
      "metadata": {
        "id": "HxEdmlGWjSrn"
      }
    },
    {
      "cell_type": "markdown",
      "source": [
        "relação lógica **OU** \"OR\" $(\\lor)$:  \\\n",
        "$0 \\lor 0 = 0$; \\\n",
        "$0 \\lor 1 = 1$; \\\n",
        "$1 \\lor 0 = 1$; \\\n",
        "$1 \\lor 1 = 1$; \n",
        "\n",
        "relação lógica **E** \"AND\" $(\\land)$: \\\n",
        "$0 \\land 0 = 0$; \\\n",
        "$0 \\land 1 = 1$; \\\n",
        "$1 \\land 0 = 1$; \\\n",
        "$1 \\land 1 = 1$; \n",
        "\n",
        "relação lógica **OU** E**x**clusivo \"XOR\" $(\\oplus)$: \\\n",
        "$0 \\oplus 0 = 0$; \\\n",
        "$0 \\oplus 1 = 1$; \\\n",
        "$1 \\oplus 0 = 1$; \\\n",
        "$1 \\oplus 1 = 0$; \n",
        "\n",
        "relação lógica **Negado** \"NOT\" $(\\lnot)$: \\\n",
        "$\\lnot 0 = 1$; \\\n",
        "$\\lnot 1 = 0$"
      ],
      "metadata": {
        "id": "G_LdCRYq22lP"
      }
    },
    {
      "cell_type": "code",
      "source": [
        "a = 0xA\n",
        "b = 0xC\n",
        "f = 0xF\n",
        "\n",
        "print(f\"{a:04b} -> a\")\n",
        "print(f\"{b:04b} -> b\")\n",
        "print(f\"{a & b:04b} -> a AND b\")\n",
        "print(f\"{a | b:04b} -> a OR b\")\n",
        "print(f\"{a ^ b:04b} -> a XOR b\")\n",
        "print(f\"{~a:04b} -> NOT a (complemento)\")\n",
        "print(f\"{a ^ f:04b} -> NOT a (XOR com F)\")"
      ],
      "metadata": {
        "colab": {
          "base_uri": "https://localhost:8080/"
        },
        "id": "T7g34DcwjSLw",
        "outputId": "cdd92d2b-55eb-4607-a98d-3071793c5011"
      },
      "execution_count": null,
      "outputs": [
        {
          "output_type": "stream",
          "name": "stdout",
          "text": [
            "1010 -> a\n",
            "1100 -> b\n",
            "1000 -> a AND b\n",
            "1110 -> a OR b\n",
            "0110 -> a XOR b\n",
            "-1011 -> NOT a (complemento)\n",
            "0101 -> NOT a (XOR com F)\n"
          ]
        }
      ]
    },
    {
      "cell_type": "markdown",
      "source": [
        "**Tabela de valores e representações decimais, hexadecimais e binarios**\n",
        "\n",
        "A representação considera **um byte**, ou seja, oito (8) bits."
      ],
      "metadata": {
        "id": "X_xopbNV4WdU"
      }
    },
    {
      "cell_type": "code",
      "source": [
        "# A rotina abaixo apresenta os valores possíveis em 8 bits, nas representações:\n",
        "# Decimal (Dec), Hexadecimal (Hex) e Binário\n",
        "\n",
        "txt     = ''\n",
        "num_col = 6\n",
        "colunas = []\n",
        "lim_num = 256\n",
        "\n",
        "tam_base_col = lim_num // num_col\n",
        "overflow_col = lim_num % num_col\n",
        "\n",
        "i = 0\n",
        "for j in range(num_col):\n",
        "  txt += \"Dec:Hex:  Binário\\t\"\n",
        "\n",
        "  num_elem_col = tam_base_col\n",
        "  if (j < overflow_col):\n",
        "    num_elem_col += 1\n",
        "  \n",
        "  col = []\n",
        "  for k in range(num_elem_col):\n",
        "    if i < lim_num:\n",
        "      col.append(f\"{i:03d}: {i:02x}: {i:08b}\\t\".upper())\n",
        "      i += 1\n",
        "  colunas.append(col)\n",
        "\n",
        "print(txt)\n",
        "\n",
        "txt = ''\n",
        "for i in range(tam_base_col + 1):\n",
        "  for j in range(num_col):\n",
        "    if i < len(colunas[j]):\n",
        "      txt += colunas[j][i]\n",
        "    else:\n",
        "      txt += \"                 \\t\"\n",
        "  txt += \"\\n\"\n",
        "\n",
        "print(txt)\n"
      ],
      "metadata": {
        "colab": {
          "base_uri": "https://localhost:8080/"
        },
        "id": "PQEQAFZo1kfa",
        "outputId": "6a635246-fc77-4124-a96b-54b5706b9480"
      },
      "execution_count": null,
      "outputs": [
        {
          "output_type": "stream",
          "name": "stdout",
          "text": [
            "Dec:Hex:  Binário\tDec:Hex:  Binário\tDec:Hex:  Binário\tDec:Hex:  Binário\tDec:Hex:  Binário\tDec:Hex:  Binário\t\n",
            "000: 00: 00000000\t043: 2B: 00101011\t086: 56: 01010110\t129: 81: 10000001\t172: AC: 10101100\t214: D6: 11010110\t\n",
            "001: 01: 00000001\t044: 2C: 00101100\t087: 57: 01010111\t130: 82: 10000010\t173: AD: 10101101\t215: D7: 11010111\t\n",
            "002: 02: 00000010\t045: 2D: 00101101\t088: 58: 01011000\t131: 83: 10000011\t174: AE: 10101110\t216: D8: 11011000\t\n",
            "003: 03: 00000011\t046: 2E: 00101110\t089: 59: 01011001\t132: 84: 10000100\t175: AF: 10101111\t217: D9: 11011001\t\n",
            "004: 04: 00000100\t047: 2F: 00101111\t090: 5A: 01011010\t133: 85: 10000101\t176: B0: 10110000\t218: DA: 11011010\t\n",
            "005: 05: 00000101\t048: 30: 00110000\t091: 5B: 01011011\t134: 86: 10000110\t177: B1: 10110001\t219: DB: 11011011\t\n",
            "006: 06: 00000110\t049: 31: 00110001\t092: 5C: 01011100\t135: 87: 10000111\t178: B2: 10110010\t220: DC: 11011100\t\n",
            "007: 07: 00000111\t050: 32: 00110010\t093: 5D: 01011101\t136: 88: 10001000\t179: B3: 10110011\t221: DD: 11011101\t\n",
            "008: 08: 00001000\t051: 33: 00110011\t094: 5E: 01011110\t137: 89: 10001001\t180: B4: 10110100\t222: DE: 11011110\t\n",
            "009: 09: 00001001\t052: 34: 00110100\t095: 5F: 01011111\t138: 8A: 10001010\t181: B5: 10110101\t223: DF: 11011111\t\n",
            "010: 0A: 00001010\t053: 35: 00110101\t096: 60: 01100000\t139: 8B: 10001011\t182: B6: 10110110\t224: E0: 11100000\t\n",
            "011: 0B: 00001011\t054: 36: 00110110\t097: 61: 01100001\t140: 8C: 10001100\t183: B7: 10110111\t225: E1: 11100001\t\n",
            "012: 0C: 00001100\t055: 37: 00110111\t098: 62: 01100010\t141: 8D: 10001101\t184: B8: 10111000\t226: E2: 11100010\t\n",
            "013: 0D: 00001101\t056: 38: 00111000\t099: 63: 01100011\t142: 8E: 10001110\t185: B9: 10111001\t227: E3: 11100011\t\n",
            "014: 0E: 00001110\t057: 39: 00111001\t100: 64: 01100100\t143: 8F: 10001111\t186: BA: 10111010\t228: E4: 11100100\t\n",
            "015: 0F: 00001111\t058: 3A: 00111010\t101: 65: 01100101\t144: 90: 10010000\t187: BB: 10111011\t229: E5: 11100101\t\n",
            "016: 10: 00010000\t059: 3B: 00111011\t102: 66: 01100110\t145: 91: 10010001\t188: BC: 10111100\t230: E6: 11100110\t\n",
            "017: 11: 00010001\t060: 3C: 00111100\t103: 67: 01100111\t146: 92: 10010010\t189: BD: 10111101\t231: E7: 11100111\t\n",
            "018: 12: 00010010\t061: 3D: 00111101\t104: 68: 01101000\t147: 93: 10010011\t190: BE: 10111110\t232: E8: 11101000\t\n",
            "019: 13: 00010011\t062: 3E: 00111110\t105: 69: 01101001\t148: 94: 10010100\t191: BF: 10111111\t233: E9: 11101001\t\n",
            "020: 14: 00010100\t063: 3F: 00111111\t106: 6A: 01101010\t149: 95: 10010101\t192: C0: 11000000\t234: EA: 11101010\t\n",
            "021: 15: 00010101\t064: 40: 01000000\t107: 6B: 01101011\t150: 96: 10010110\t193: C1: 11000001\t235: EB: 11101011\t\n",
            "022: 16: 00010110\t065: 41: 01000001\t108: 6C: 01101100\t151: 97: 10010111\t194: C2: 11000010\t236: EC: 11101100\t\n",
            "023: 17: 00010111\t066: 42: 01000010\t109: 6D: 01101101\t152: 98: 10011000\t195: C3: 11000011\t237: ED: 11101101\t\n",
            "024: 18: 00011000\t067: 43: 01000011\t110: 6E: 01101110\t153: 99: 10011001\t196: C4: 11000100\t238: EE: 11101110\t\n",
            "025: 19: 00011001\t068: 44: 01000100\t111: 6F: 01101111\t154: 9A: 10011010\t197: C5: 11000101\t239: EF: 11101111\t\n",
            "026: 1A: 00011010\t069: 45: 01000101\t112: 70: 01110000\t155: 9B: 10011011\t198: C6: 11000110\t240: F0: 11110000\t\n",
            "027: 1B: 00011011\t070: 46: 01000110\t113: 71: 01110001\t156: 9C: 10011100\t199: C7: 11000111\t241: F1: 11110001\t\n",
            "028: 1C: 00011100\t071: 47: 01000111\t114: 72: 01110010\t157: 9D: 10011101\t200: C8: 11001000\t242: F2: 11110010\t\n",
            "029: 1D: 00011101\t072: 48: 01001000\t115: 73: 01110011\t158: 9E: 10011110\t201: C9: 11001001\t243: F3: 11110011\t\n",
            "030: 1E: 00011110\t073: 49: 01001001\t116: 74: 01110100\t159: 9F: 10011111\t202: CA: 11001010\t244: F4: 11110100\t\n",
            "031: 1F: 00011111\t074: 4A: 01001010\t117: 75: 01110101\t160: A0: 10100000\t203: CB: 11001011\t245: F5: 11110101\t\n",
            "032: 20: 00100000\t075: 4B: 01001011\t118: 76: 01110110\t161: A1: 10100001\t204: CC: 11001100\t246: F6: 11110110\t\n",
            "033: 21: 00100001\t076: 4C: 01001100\t119: 77: 01110111\t162: A2: 10100010\t205: CD: 11001101\t247: F7: 11110111\t\n",
            "034: 22: 00100010\t077: 4D: 01001101\t120: 78: 01111000\t163: A3: 10100011\t206: CE: 11001110\t248: F8: 11111000\t\n",
            "035: 23: 00100011\t078: 4E: 01001110\t121: 79: 01111001\t164: A4: 10100100\t207: CF: 11001111\t249: F9: 11111001\t\n",
            "036: 24: 00100100\t079: 4F: 01001111\t122: 7A: 01111010\t165: A5: 10100101\t208: D0: 11010000\t250: FA: 11111010\t\n",
            "037: 25: 00100101\t080: 50: 01010000\t123: 7B: 01111011\t166: A6: 10100110\t209: D1: 11010001\t251: FB: 11111011\t\n",
            "038: 26: 00100110\t081: 51: 01010001\t124: 7C: 01111100\t167: A7: 10100111\t210: D2: 11010010\t252: FC: 11111100\t\n",
            "039: 27: 00100111\t082: 52: 01010010\t125: 7D: 01111101\t168: A8: 10101000\t211: D3: 11010011\t253: FD: 11111101\t\n",
            "040: 28: 00101000\t083: 53: 01010011\t126: 7E: 01111110\t169: A9: 10101001\t212: D4: 11010100\t254: FE: 11111110\t\n",
            "041: 29: 00101001\t084: 54: 01010100\t127: 7F: 01111111\t170: AA: 10101010\t213: D5: 11010101\t255: FF: 11111111\t\n",
            "042: 2A: 00101010\t085: 55: 01010101\t128: 80: 10000000\t171: AB: 10101011\t                 \t                 \t\n",
            "\n"
          ]
        }
      ]
    },
    {
      "cell_type": "code",
      "source": [
        "#@title\n",
        "# txt = ''\n",
        "# linhas = []\n",
        "# for i in range(num_col):\n",
        "#   linhas.append([])\n",
        "# j = 0\n",
        "# tam_col = 256 // num_col\n",
        "# #if 256 % num_col != 0:\n",
        "# #  tam_col += 1\n",
        "\n",
        "# for i in range(256):\n",
        "#   #print(j)\n",
        "#   print(f'i:{i+1} : j:{j} : i({i}) % tam_col({tam_col}):{(i+1) % tam_col}')\n",
        "#   linhas[j].append(f\"{i:03d}: {i:02x}: {i:08b}\\t\".upper())\n",
        "#   if   (i) % tam_col == 0 and (256%num_col) == 0 and i != 0:\n",
        "#     j += 1\n",
        "#   elif (i) % tam_col == 0 and (256%num_col) != 0 and j > (256%num_col) and i != 0:\n",
        "#     j += 1\n",
        "#   elif (i) % tam_col == 1 and (256%num_col) != 0 and j <= (256%num_col) and i != 0:\n",
        "#     j += 1\n",
        "\n",
        "\n",
        "# txt = ''\n",
        "# for i in range(tam_col):\n",
        "#   for j in range(num_col):\n",
        "#     if j < num_col and i < len(linhas[j]):\n",
        "#       txt += linhas[j][i]\n",
        "#   txt += '\\n'\n",
        "\n",
        "# print(txt)\n",
        "# for i in range(256):\n",
        "#   txt += f\"{i:03d}: {i:02x}: {i:08b}\\t\".upper()\n",
        "#   if ((i+1) % num_col) == 0:\n",
        "#     print(txt)\n",
        "#     txt = ''\n",
        "# print(txt)"
      ],
      "metadata": {
        "cellView": "form",
        "id": "uy_wyp4hpPMR"
      },
      "execution_count": null,
      "outputs": []
    },
    {
      "cell_type": "markdown",
      "source": [
        "# Construção de cifras simples"
      ],
      "metadata": {
        "id": "OBQfphcDq5g3"
      }
    },
    {
      "cell_type": "markdown",
      "source": [
        "**Definição 2.1 {Douglas R. Stinson, 4$^a$Ed.}**:\n",
        "\n",
        "Um criptossistema é uma 5-tupla $(\\mathcal{P}, \\mathcal{C}, \\mathcal{K}, \\mathcal{E}, \\mathcal{D})$, onde as seguintes condições são satisfeitas:\n",
        "\n",
        "\n",
        "\n",
        "1.   $\\mathcal{P}$ é um conjunto finito de possíveis **textos em claro**; \n",
        "2.   $\\mathcal{C}$ é um conjunto finito de possíveis **textos cifrados**;\n",
        "3.   $\\mathcal{K}$ é um conjunto finito de possíveis **chaves**, o espaço de chaves;\n",
        "4.   Para cada $k \\in \\mathcal{K}$ existe uma função de encriptação $e_k \\in \\mathcal{E}$, e a correspondente função de decriptação $d_k \\in \\mathcal{D}$. Tal que $e_k: \\mathcal{P} → \\mathcal{C}$ e $d_k: \\mathcal{C} → \\mathcal{P}$ são funções as quais $d_k(e_k(p))=p$ para todo texto em claro $p \\in \\mathcal{P}$;\n",
        "\n",
        "\n",
        "\n",
        "**Definição Rufino**:\n",
        "\n",
        "Seja:\n",
        "*   $\\mathcal{P}$ conjunto de todos os textos em claro possíveis;\n",
        "*   $\\mathcal{K}$ conjunto de todas as chaves possíveis;\n",
        "*   $\\mathcal{C}$ conjunto de todos os textos cifrados possíveis;\n",
        "*   $p \\in \\mathcal{P}$ uma instância de um texto em claro;\n",
        "*   $k \\in \\mathcal{K}$ uma instância de chave criptográfica;\n",
        "*   $C_k \\in \\mathcal{C}$ uma instância de texto cifrado com a chave $k$;\n",
        "*   $\\mathcal{E}$ conjunto de todas as funções de criptografia;\n",
        "*   $\\mathcal{D}$ conjunto de todas as funções de decriptografia.\n",
        "\n",
        "Onde $\\forall\\, k,$:\n",
        "*   $\\{∃\\, e_k \\in \\mathcal{E}\\mid e_k: p → c_k\\}$ e\n",
        "*   $\\{∃\\, d_k \\in \\mathcal{D}\\mid d_k: c_k → p\\}$,\n",
        "*   Tal que: $d_k(e_k(p))=p$\n"
      ],
      "metadata": {
        "id": "07yCZ3xQIymZ"
      }
    },
    {
      "cell_type": "markdown",
      "source": [
        "**Cifra de Substituição**\n",
        "*   $\\mathcal{P}:$  é o conjunto de letras do alfabeto;\n",
        "*   $\\mathcal{C}:$  é o conjunto de letras do alfabeto;\n",
        "*   $\\mathcal{K}:$  é o conjunto de valores inteiros positivos de 1 até 23 (qtd letras do alfabeto);\n",
        "*   $e_k \\in \\mathcal{E} \\mid e_k(p) = p + k = c_k$  \n",
        "*   $d_k \\in \\mathcal{D} \\mid d_k(c) = p - k = p$\n",
        "\n",
        "Em especial, quando $k=3$, o criptossistema é conhecido como a Cifra de César, atribuída ao imperador do Império Romano.\n"
      ],
      "metadata": {
        "id": "VK2ThtSw1CrM"
      }
    },
    {
      "cell_type": "code",
      "source": [
        "# Cifra de César\n",
        "def encif_cesar(p, k):\n",
        "  aux = list()\n",
        "  value = 0\n",
        "  for x in p:\n",
        "    if  ord(x) >= ord('A') and ord(x) <= ord('Z'):\n",
        "      # Letras maiúsculas\n",
        "      value = ((ord(x) - ord('A') + k) % (ord('Z') - ord('A')+1)) + ord('A')\n",
        "    elif ord(x) >= ord('a') and ord(x) <= ord('z'):\n",
        "      value = ((ord(x) - ord('a') + k) % (ord('z') - ord('a')+1)) + ord('a')\n",
        "    else:\n",
        "      value = ord(x)\n",
        "    aux.append(chr(value))\n",
        "  return  \"\".join(aux)\n",
        "\n",
        "def decif_cesar(p, k):\n",
        "  aux = list()\n",
        "  value = 0\n",
        "  for x in p:\n",
        "    if  ord(x) >= ord('A') and ord(x) <= ord('Z'):\n",
        "      # Letras maiúsculas\n",
        "      value = ((ord(x) - ord('A') - k) % (ord('Z') - ord('A')+1)) + ord('A')\n",
        "    elif ord(x) >= ord('a') and ord(x) <= ord('z'):\n",
        "      value = ((ord(x) - ord('a') - k) % (ord('z') - ord('a')+1)) + ord('a')\n",
        "    else:\n",
        "      value = ord(x)\n",
        "    aux.append(chr(value))\n",
        "  return  \"\".join(aux)\n"
      ],
      "metadata": {
        "id": "Xmi6PDIv3IdR"
      },
      "execution_count": null,
      "outputs": []
    },
    {
      "cell_type": "code",
      "source": [
        "texto_claro = \"the quick brown fox jumps over the lazy dog\"\n",
        "texto_claro += \" \" + texto_claro.upper()\n",
        "key = 3\n",
        "\n",
        "texto_cifrado = encif_cesar(texto_claro,key)\n",
        "texto_decifrado = decif_cesar(texto_cifrado, key)\n",
        "\n",
        "print(f\"Texto claro    : {texto_claro}\")\n",
        "print(f\"Texto cifrado  : {texto_cifrado}\")\n",
        "print(f\"Texto decifrado: {texto_decifrado}\")"
      ],
      "metadata": {
        "colab": {
          "base_uri": "https://localhost:8080/"
        },
        "id": "FQ79dNjDhwgR",
        "outputId": "39eca5b2-530a-43cc-8178-ea17012ee551"
      },
      "execution_count": null,
      "outputs": [
        {
          "output_type": "stream",
          "name": "stdout",
          "text": [
            "Texto claro    : the quick brown fox jumps over the lazy dog THE QUICK BROWN FOX JUMPS OVER THE LAZY DOG\n",
            "Texto cifrado  : wkh txlfn eurzq ira mxpsv ryhu wkh odcb grj WKH TXLFN EURZQ IRA MXPSV RYHU WKH ODCB GRJ\n",
            "Texto decifrado: the quick brown fox jumps over the lazy dog THE QUICK BROWN FOX JUMPS OVER THE LAZY DOG\n"
          ]
        }
      ]
    },
    {
      "cell_type": "markdown",
      "source": [
        "Exercício:\n",
        "1. Use as funções acima e descubra a seguinte mensagem:\n",
        "\"Pdulqkd gr Eudvlo, surwhjhqgr qrvvdv ultxhcdv, fxlgdqgr gd qrvvd jhqwh\""
      ],
      "metadata": {
        "id": "jdknt_7GBOmb"
      }
    },
    {
      "cell_type": "code",
      "source": [
        "texto_cifrado = \"Pdulqkd gr Eudvlo, surwhjhqgr qrvvdv ultxhcdv, fxlgdqgr gd qrvvd jhqwh\""
      ],
      "metadata": {
        "id": "vrUMqoB45StH"
      },
      "execution_count": null,
      "outputs": []
    },
    {
      "cell_type": "markdown",
      "source": [
        "2. "
      ],
      "metadata": {
        "id": "Dfn7WAgj-GRp"
      }
    },
    {
      "cell_type": "code",
      "source": [
        "import numpy as np\n",
        "\n",
        "\n",
        "cadeia = [chr(c) for c in range(ord('a'),ord('z')+1)]\n",
        "cadeia.append(' ')\n",
        "\n",
        "perm = np.random.permutation(cadeia)\n",
        "print(perm.tolist())\n",
        "\n",
        "def encif_perm(p, perm):\n",
        "  c = ''\n",
        "  for x in p.lower():\n",
        "    if x != ' ':\n",
        "      idx = ord(x) - ord('a')\n",
        "    else:\n",
        "      idx = ord('z')-ord('a')+1\n",
        "    \n",
        "    c += perm[idx]\n",
        "  return c\n",
        "\n",
        "def decif_perm(c, perm):\n",
        "  p = perm.tolist()\n",
        "  cadeia = [chr(c) for c in range(ord('a'),ord('z')+1)]\n",
        "  cadeia.append(' ')\n",
        "  anti_perm = [' ' for i in range(len(p))]\n",
        "\n",
        "  for i in range(len(p)):\n",
        "    idx = cadeia.index(p[i])\n",
        "    anti_perm[idx] = cadeia[i]\n",
        "  print(anti_perm)\n",
        "  return encif_perm(c, anti_perm)\n",
        "\n",
        "p = 'the quick brown fox jumps over the lazy dog'\n",
        "c = encif_perm(p, perm)\n",
        "d = decif_perm(c, perm)\n",
        "print(cadeia)\n",
        "\n",
        "print(p)\n",
        "print(c)\n",
        "print(d)"
      ],
      "metadata": {
        "colab": {
          "base_uri": "https://localhost:8080/"
        },
        "id": "W1Xclc8e_89F",
        "outputId": "08a4f425-0f0d-4926-9342-0b8bede9f231"
      },
      "execution_count": null,
      "outputs": [
        {
          "output_type": "stream",
          "name": "stdout",
          "text": [
            "['o', 'm', 'c', 'l', 'z', 'i', 'g', 'j', 'r', 'y', 'p', 'n', 'f', 'v', 'h', 's', 'd', 'b', 'a', 'u', 'e', 'k', 't', 'x', 'q', ' ', 'w']\n",
            "['s', 'r', 'c', 'q', 'u', 'm', 'g', 'o', 'f', 'h', 'v', 'd', 'b', 'l', 'a', 'k', 'y', 'i', 'p', 'w', 't', 'n', ' ', 'x', 'j', 'e', 'z']\n",
            "['a', 'b', 'c', 'd', 'e', 'f', 'g', 'h', 'i', 'j', 'k', 'l', 'm', 'n', 'o', 'p', 'q', 'r', 's', 't', 'u', 'v', 'w', 'x', 'y', 'z', ' ']\n",
            "the quick brown fox jumps over the lazy dog\n",
            "ujzwdercpwmbhtvwihxwyefsawhkzbwujzwno qwlhg\n",
            "the quick brown fox jumps over the lazy dog\n"
          ]
        }
      ]
    }
  ]
}