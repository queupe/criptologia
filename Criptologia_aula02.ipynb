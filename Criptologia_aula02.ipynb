{
  "nbformat": 4,
  "nbformat_minor": 0,
  "metadata": {
    "colab": {
      "name": "Criptologia_aula02.ipynb",
      "provenance": [],
      "collapsed_sections": [],
      "authorship_tag": "ABX9TyPSd6wADEVlEDvQnJsSDyhs",
      "include_colab_link": true
    },
    "kernelspec": {
      "name": "python3",
      "display_name": "Python 3"
    },
    "language_info": {
      "name": "python"
    }
  },
  "cells": [
    {
      "cell_type": "markdown",
      "metadata": {
        "id": "view-in-github",
        "colab_type": "text"
      },
      "source": [
        "<a href=\"https://colab.research.google.com/github/queupe/criptologia/blob/main/Criptologia_aula02.ipynb\" target=\"_parent\"><img src=\"https://colab.research.google.com/assets/colab-badge.svg\" alt=\"Open In Colab\"/></a>"
      ]
    },
    {
      "cell_type": "markdown",
      "source": [
        "# **Criptologia**\n"
      ],
      "metadata": {
        "id": "AY3I62eLfIz1"
      }
    },
    {
      "cell_type": "markdown",
      "source": [
        "**Laboratório de criptologia**\n",
        "\n",
        "Prof. Dr. Vilc Queupe **Rufino**"
      ],
      "metadata": {
        "id": "1ZXFdn481Wtg"
      }
    },
    {
      "cell_type": "markdown",
      "source": [
        "# **Aula 2**\n",
        "\n",
        "** Cifras Simétricas AES e Funções Hash**"
      ],
      "metadata": {
        "id": "c67As79Lczcp"
      }
    },
    {
      "cell_type": "code",
      "execution_count": null,
      "metadata": {
        "colab": {
          "base_uri": "https://localhost:8080/"
        },
        "id": "DJKbtAfFfCwl",
        "outputId": "bbc59d8b-066e-4802-a33f-9bdb4a20a072"
      },
      "outputs": [
        {
          "output_type": "stream",
          "name": "stdout",
          "text": [
            "Collecting pycryptodome\n",
            "  Downloading pycryptodome-3.14.1-cp35-abi3-manylinux2010_x86_64.whl (2.0 MB)\n",
            "\u001b[K     |████████████████████████████████| 2.0 MB 5.4 MB/s \n",
            "\u001b[?25hInstalling collected packages: pycryptodome\n",
            "Successfully installed pycryptodome-3.14.1\n"
          ]
        }
      ],
      "source": [
        "# Biblioteca a ser instalada para realização das atividades\n",
        "# Deve ser recarregada a cada instância Colab\n",
        "!pip install pycryptodome"
      ]
    },
    {
      "cell_type": "markdown",
      "source": [
        "**Operando com cifras AES**"
      ],
      "metadata": {
        "id": "0_JtXZATr3D2"
      }
    },
    {
      "cell_type": "code",
      "source": [
        "from Crypto.Cipher import AES\n",
        "from Crypto.Random import get_random_bytes\n",
        "\n",
        "#data = b'secret data'\n",
        "data = b'the quick brown fox jumps over the lazy dog THE QUICK BROWN FOX JUMPS OVER THE LAZY DOG'\n",
        "key = get_random_bytes(16)\n",
        "\n",
        "cipher = AES.new(key, AES.MODE_EAX)\n",
        "ciphertext, tag = cipher.encrypt_and_digest(data)\n",
        "txt = ''\n",
        "with open(\"encrypted.bin\", 'wb') as f:\n",
        "  for x in (cipher.nonce, tag, ciphertext):\n",
        "    f.write(x)\n",
        "    txt += x.hex()\n",
        "\n",
        "print(f\"Texto legível: {len(data):03d} : {data}\")\n",
        "print(f\"Texto claro  : {len(data):03d} : {data.hex()}\" )\n",
        "print(f\"Texto cifrado: {len(txt)//2:03d} : {txt.upper()}\")\n"
      ],
      "metadata": {
        "colab": {
          "base_uri": "https://localhost:8080/"
        },
        "id": "BPlsuII3f6rw",
        "outputId": "2c79ed43-4b95-4394-806c-7ddd4f1e25c1"
      },
      "execution_count": null,
      "outputs": [
        {
          "output_type": "stream",
          "name": "stdout",
          "text": [
            "Texto legível: 087 : b'the quick brown fox jumps over the lazy dog THE QUICK BROWN FOX JUMPS OVER THE LAZY DOG'\n",
            "Texto claro  : 087 : 74686520717569636b2062726f776e20666f78206a756d7073206f76657220746865206c617a7920646f672054484520515549434b2042524f574e20464f58204a554d5053204f56455220544845204c415a5920444f47\n",
            "Texto cifrado: 119 : B10F2EFFC7406361F7C146920FAECFB845DB014F8F68E9F90A5245B5B5DD0AA884A14391837332169B4FFF70378CFB13A4A7B0D74A629EACB27F41EAE5F32F6456A6E0B2448BE8939AB288EC19FB53EABF978CF0D6CF14A068AF5DF31956A265BB2DE9CEAE376003F04E809BBEF00ED73E0651D3DEE0BE\n"
          ]
        }
      ]
    },
    {
      "cell_type": "code",
      "source": [
        "from Crypto.Cipher import AES\n",
        "\n",
        "with open(\"encrypted.bin\", \"rb\") as f:\n",
        "  nonce, tag, ciphertext = [ f.read(x) for x in (16, 16, -1) ]\n",
        "\n",
        "txt = nonce.hex() + tag.hex() + ciphertext.hex()\n",
        "\n",
        "# let's assume that the key is somehow available again\n",
        "cipher = AES.new(key, AES.MODE_EAX, nonce)\n",
        "data = cipher.decrypt_and_verify(ciphertext, tag)\n",
        "\n",
        "print(f\"Texto cifrado: {len(txt)//2:03d} : {txt.upper()}\")\n",
        "print(f\"Texto claro  : {len(data):03d} : {data.hex()}\" )\n",
        "print(f\"Texto legível: {len(data):03d} : {data}\")"
      ],
      "metadata": {
        "colab": {
          "base_uri": "https://localhost:8080/"
        },
        "id": "Kx-9ua74y4hh",
        "outputId": "54cc793f-a693-4d94-aaea-0a4308056501"
      },
      "execution_count": null,
      "outputs": [
        {
          "output_type": "stream",
          "name": "stdout",
          "text": [
            "Texto cifrado: 119 : B10F2EFFC7406361F7C146920FAECFB845DB014F8F68E9F90A5245B5B5DD0AA884A14391837332169B4FFF70378CFB13A4A7B0D74A629EACB27F41EAE5F32F6456A6E0B2448BE8939AB288EC19FB53EABF978CF0D6CF14A068AF5DF31956A265BB2DE9CEAE376003F04E809BBEF00ED73E0651D3DEE0BE\n",
            "Texto claro  : 087 : 74686520717569636b2062726f776e20666f78206a756d7073206f76657220746865206c617a7920646f672054484520515549434b2042524f574e20464f58204a554d5053204f56455220544845204c415a5920444f47\n",
            "Texto legível: 087 : b'the quick brown fox jumps over the lazy dog THE QUICK BROWN FOX JUMPS OVER THE LAZY DOG'\n"
          ]
        }
      ]
    },
    {
      "cell_type": "code",
      "source": [
        "# Sabendo-se que é possível definir a chave como:\n",
        "key = b'\\x74\\x01\\x02\\x03\\x04\\x05\\x06\\x07\\x08\\x09\\x0a\\x0b\\x0c\\x0d\\x0e\\x0f'\n",
        "print(f\"Key: {len(key):03d} : {key.hex()}\")\n",
        "\n",
        "key = b'\\0'*16\n",
        "print(f\"Key: {len(key):03d} : {key.hex()}\")"
      ],
      "metadata": {
        "colab": {
          "base_uri": "https://localhost:8080/"
        },
        "id": "2O--bjYEgKsP",
        "outputId": "f4512872-44b8-45d7-ed46-270af900ba6b"
      },
      "execution_count": null,
      "outputs": [
        {
          "output_type": "stream",
          "name": "stdout",
          "text": [
            "Key: 016 : 740102030405060708090a0b0c0d0e0f\n",
            "Key: 016 : 00000000000000000000000000000000\n"
          ]
        }
      ]
    },
    {
      "cell_type": "markdown",
      "source": [
        "Exercícios:\n",
        "1 - Use o AES nos modos "
      ],
      "metadata": {
        "id": "TsM4bSJYzMXT"
      }
    },
    {
      "cell_type": "code",
      "source": [
        "\n"
      ],
      "metadata": {
        "colab": {
          "base_uri": "https://localhost:8080/"
        },
        "id": "HY_aOY96f8kx",
        "outputId": "f661181e-9389-40b5-f4a3-d8bab3e0fc47"
      },
      "execution_count": null,
      "outputs": [
        {
          "output_type": "stream",
          "name": "stdout",
          "text": [
            "Texto cifrado: 043 : 96CC3C79553787F6647CC28ACBABAF8B0DA7B7AB82D99E0F273AF1834770B371F40433BF4066EE9628B504\n",
            "Texto claro  : 011 : 7365637265742064617461\n",
            "Texto legível: 011 : b'secret data'\n"
          ]
        }
      ]
    },
    {
      "cell_type": "code",
      "source": [
        "#@title\n",
        "# Implementação obtida em:\n",
        "# https://github.com/rodrigorincon/criptografia/blob/master/AES/python/aesCipher.py\n",
        "\n",
        "# -*- coding: UTF-8 -*-\n",
        "\n",
        "def transformToMatriz(mensagem):\n",
        "\tmatriz = [[],[],[],[]]\n",
        "\tfor i in range(4):\n",
        "\t\tlinha = [ord(caracter) for caracter in mensagem[i*4:i*4+4]]\n",
        "\t\tmatriz[i] = linha\n",
        "\treturn matriz\n",
        "\n",
        "\n",
        "def transformToString(matriz):\n",
        "\tresult = []\n",
        "\tfor linha in range(4):\n",
        "\t\tresult += [''.join( chr(i) for i in matriz[linha] )]\n",
        "\treturn ''.join(result)\n",
        "\n",
        "def sbox(valor):\n",
        "\tmatriz_substituicao = [0x63, 0x7C, 0x77, 0x7B, 0xF2, 0x6B, 0x6F, 0xC5, 0x30, 0x01, 0x67, 0x2B, 0xFE, 0xD7, 0xAB, 0x76,\n",
        "\t\t\t\t\t\t   0xCA, 0x82, 0xC9, 0x7D, 0xFA, 0x59, 0x47, 0xF0, 0xAD, 0xD4, 0xA2, 0xAF, 0x9C, 0xA4, 0x72, 0xC0,\n",
        "\t\t\t\t\t\t   0xB7, 0xFD, 0x93, 0x26, 0x36, 0x3F, 0xF7, 0xCC, 0x34, 0xA5, 0xE5, 0xF1, 0x71, 0xD8, 0x31, 0x15,\n",
        "\t\t\t\t\t\t   0x04, 0xC7, 0x23, 0xC3, 0x18, 0x96, 0x05, 0x9A, 0x07, 0x12, 0x80, 0xE2, 0xEB, 0x27, 0xB2, 0x75,\n",
        "\t\t\t\t\t\t   0x09, 0x83, 0x2C, 0x1A, 0x1B, 0x6E, 0x5A, 0xA0, 0x52, 0x3B, 0xD6, 0xB3, 0x29, 0xE3, 0x2F, 0x84,\n",
        "\t\t\t\t\t\t   0x53, 0xD1, 0x00, 0xED, 0x20, 0xFC, 0xB1, 0x5B, 0x6A, 0xCB, 0xBE, 0x39, 0x4A, 0x4C, 0x58, 0xCF,\n",
        "\t\t\t\t\t\t   0xD0, 0xEF, 0xAA, 0xFB, 0x43, 0x4D, 0x33, 0x85, 0x45, 0xF9, 0x02, 0x7F, 0x50, 0x3C, 0x9F, 0xA8,\n",
        "\t\t\t\t\t\t   0x51, 0xA3, 0x40, 0x8F, 0x92, 0x9D, 0x38, 0xF5, 0xBC, 0xB6, 0xDA, 0x21, 0x10, 0xFF, 0xF3, 0xD2,\n",
        "\t\t\t\t\t\t   0xCD, 0x0C, 0x13, 0xEC, 0x5F, 0x97, 0x44, 0x17, 0xC4, 0xA7, 0x7E, 0x3D, 0x64, 0x5D, 0x19, 0x73,\n",
        "\t\t\t\t\t\t   0x60, 0x81, 0x4F, 0xDC, 0x22, 0x2A, 0x90, 0x88, 0x46, 0xEE, 0xB8, 0x14, 0xDE, 0x5E, 0x0B, 0xDB,\n",
        "\t\t\t\t\t\t   0xE0, 0x32, 0x3A, 0x0A, 0x49, 0x06, 0x24, 0x5C, 0xC2, 0xD3, 0xAC, 0x62, 0x91, 0x95, 0xE4, 0x79,\n",
        "\t\t\t\t\t\t   0xE7, 0xC8, 0x37, 0x6D, 0x8D, 0xD5, 0x4E, 0xA9, 0x6C, 0x56, 0xF4, 0xEA, 0x65, 0x7A, 0xAE, 0x08,\n",
        "\t\t\t\t\t\t   0xBA, 0x78, 0x25, 0x2E, 0x1C, 0xA6, 0xB4, 0xC6, 0xE8, 0xDD, 0x74, 0x1F, 0x4B, 0xBD, 0x8B, 0x8A,\n",
        "\t\t\t\t\t\t   0x70, 0x3E, 0xB5, 0x66, 0x48, 0x03, 0xF6, 0x0E, 0x61, 0x35, 0x57, 0xB9, 0x86, 0xC1, 0x1D, 0x9E,\n",
        "\t\t\t\t\t\t   0xE1, 0xF8, 0x98, 0x11, 0x69, 0xD9, 0x8E, 0x94, 0x9B, 0x1E, 0x87, 0xE9, 0xCE, 0x55, 0x28, 0xDF,\n",
        "\t\t\t\t\t\t   0x8C, 0xA1, 0x89, 0x0D, 0xBF, 0xE6, 0x42, 0x68, 0x41, 0x99, 0x2D, 0x0F, 0xB0, 0x54, 0xBB, 0x16]\n",
        "\treturn matriz_substituicao[valor]\n",
        "\n",
        "def invSbox(valor):\n",
        "\tmatriz_substituicao = [0x52, 0x09, 0x6A, 0xD5, 0x30, 0x36, 0xA5, 0x38, 0xBF, 0x40, 0xA3, 0x9E, 0x81, 0xF3, 0xD7, 0xFB,\n",
        "\t\t\t\t   \t\t   0x7C, 0xE3, 0x39, 0x82, 0x9B, 0x2F, 0xFF, 0x87, 0x34, 0x8E, 0x43, 0x44, 0xC4, 0xDE, 0xE9, 0xCB,\n",
        "\t\t\t\t\t\t   0x54, 0x7B, 0x94, 0x32, 0xA6, 0xC2, 0x23, 0x3D, 0xEE, 0x4C, 0x95, 0x0B, 0x42, 0xFA, 0xC3, 0x4E,\n",
        "\t\t\t\t\t\t   0x08, 0x2E, 0xA1, 0x66, 0x28, 0xD9, 0x24, 0xB2, 0x76, 0x5B, 0xA2, 0x49, 0x6D, 0x8B, 0xD1, 0x25,\n",
        "\t\t\t\t\t\t   0x72, 0xF8, 0xF6, 0x64, 0x86, 0x68, 0x98, 0x16, 0xD4, 0xA4, 0x5C, 0xCC, 0x5D, 0x65, 0xB6, 0x92,\n",
        "\t\t\t\t\t\t   0x6C, 0x70, 0x48, 0x50, 0xFD, 0xED, 0xB9, 0xDA, 0x5E, 0x15, 0x46, 0x57, 0xA7, 0x8D, 0x9D, 0x84,\n",
        "\t\t\t\t\t\t   0x90, 0xD8, 0xAB, 0x00, 0x8C, 0xBC, 0xD3, 0x0A, 0xF7, 0xE4, 0x58, 0x05, 0xB8, 0xB3, 0x45, 0x06,\n",
        "\t\t\t\t\t\t   0xD0, 0x2C, 0x1E, 0x8F, 0xCA, 0x3F, 0x0F, 0x02, 0xC1, 0xAF, 0xBD, 0x03, 0x01, 0x13, 0x8A, 0x6B,\n",
        "\t\t\t\t\t\t   0x3A, 0x91, 0x11, 0x41, 0x4F, 0x67, 0xDC, 0xEA, 0x97, 0xF2, 0xCF, 0xCE, 0xF0, 0xB4, 0xE6, 0x73,\n",
        "\t\t\t\t\t\t   0x96, 0xAC, 0x74, 0x22, 0xE7, 0xAD, 0x35, 0x85, 0xE2, 0xF9, 0x37, 0xE8, 0x1C, 0x75, 0xDF, 0x6E,\n",
        "\t\t\t\t\t\t   0x47, 0xF1, 0x1A, 0x71, 0x1D, 0x29, 0xC5, 0x89, 0x6F, 0xB7, 0x62, 0x0E, 0xAA, 0x18, 0xBE, 0x1B,\n",
        "\t\t\t\t\t\t   0xFC, 0x56, 0x3E, 0x4B, 0xC6, 0xD2, 0x79, 0x20, 0x9A, 0xDB, 0xC0, 0xFE, 0x78, 0xCD, 0x5A, 0xF4,\n",
        "\t\t\t\t\t\t   0x1F, 0xDD, 0xA8, 0x33, 0x88, 0x07, 0xC7, 0x31, 0xB1, 0x12, 0x10, 0x59, 0x27, 0x80, 0xEC, 0x5F,\n",
        "\t\t\t\t\t\t   0x60, 0x51, 0x7F, 0xA9, 0x19, 0xB5, 0x4A, 0x0D, 0x2D, 0xE5, 0x7A, 0x9F, 0x93, 0xC9, 0x9C, 0xEF,\n",
        "\t\t\t\t\t\t   0xA0, 0xE0, 0x3B, 0x4D, 0xAE, 0x2A, 0xF5, 0xB0, 0xC8, 0xEB, 0xBB, 0x3C, 0x83, 0x53, 0x99, 0x61,\n",
        "\t\t\t\t\t\t   0x17, 0x2B, 0x04, 0x7E, 0xBA, 0x77, 0xD6, 0x26, 0xE1, 0x69, 0x14, 0x63, 0x55, 0x21, 0x0C, 0x7D]\n",
        "\treturn matriz_substituicao[valor]\n",
        "\n",
        "def rcon(j):\n",
        "\tvector = [[1,0,0,0],[2,0,0,0],[4,0,0,0],[8,0,0,0],[16,0,0,0],[32,0,0,0],[64,0,0,0],[128,0,0,0],[27,0,0,0],[54,0,0,0]]\n",
        "\treturn vector[j]\n",
        "\n",
        "def shiftLeft(linha, casas_deslocadas):\n",
        "\treturn linha[casas_deslocadas:] + linha[:casas_deslocadas]\n",
        "\n",
        "def funcaoG(linha, round):\n",
        "\t#shift pra esquerda\n",
        "\tlinha = shiftLeft(linha,1)\n",
        "\t#sbox\n",
        "\tfor i in range(4):\n",
        "\t\tlinha[i] = sbox(linha[i])\n",
        "\t#Rcon(j)\n",
        "\treturn xorLinha(linha,rcon(round))\n",
        "\n",
        "def xorLinha(linha1, linha2):\n",
        "\treturn [ linha1[0]^linha2[0], linha1[1]^linha2[1], linha1[2]^linha2[2], linha1[3]^linha2[3] ]\n",
        "\n",
        "def keyExpansion(key):\n",
        "\texpanded = [key]\n",
        "\tfor round in range(1,11):\n",
        "\t\tmatriz = []\n",
        "\t\tfor i in range(4):\n",
        "\t\t\tlinha_anterior = funcaoG(expanded[-1][-1], round-1) if i==0 else matriz[-1]\n",
        "\t\t\tlinha = xorLinha(linha_anterior, expanded[-1][i])\n",
        "\t\t\tmatriz += [linha]\n",
        "\t\texpanded+= [matriz]\n",
        "\treturn expanded\n",
        "\n",
        "def addRoundKey(text, key):\n",
        "\tfor i in range(4):\n",
        "\t\ttext[i] = xorLinha(text[i],key[i])\n",
        "\treturn text\n",
        "\n",
        "def subBytes(text):\n",
        "\tfor linha in range(4):\n",
        "\t\tfor coluna in range(4):\n",
        "\t\t\ttext[linha][coluna] = sbox(text[linha][coluna])\n",
        "\treturn text\n",
        "\n",
        "def shiftRow(text):\n",
        "\tlinha1 = [text[0][0], text[1][1], text[2][2], text[3][3] ]\n",
        "\tlinha2 = [text[1][0], text[2][1], text[3][2], text[0][3] ]\n",
        "\tlinha3 = [text[2][0], text[3][1], text[0][2], text[1][3] ]\n",
        "\tlinha4 = [text[3][0], text[0][1], text[1][2], text[2][3] ]\n",
        "\treturn [linha1,linha2,linha3,linha4]\n",
        "\n",
        "def xorCondicional(valor):\n",
        "\treturn valor ^ 283 if valor > 255 else valor\n",
        "\n",
        "def mult2(valor):\n",
        "\treturn xorCondicional (valor << 1)\n",
        "def mult4(valor): \n",
        "\treturn mult2( mult2(valor) )\n",
        "def mult8(valor):\n",
        "\treturn mult2( mult2(mult2(valor) ) ) \n",
        "\n",
        "def mult(coef, valor):\n",
        "\tvalue_returned = 0\n",
        "\tif(coef == 1):\n",
        "\t\tvalue_returned = valor\n",
        "\telif(coef == 2):\n",
        "\t\tvalue_returned = xorCondicional(valor << 1)\n",
        "\telif(coef == 3):\n",
        "\t\tvalue_returned = xorCondicional(valor << 1) ^ valor\n",
        "\telif(coef==9):\n",
        "\t\tvalue_returned = mult8(valor) ^ valor\n",
        "\telif(coef==11):\n",
        "\t\tvalue_returned = mult8(valor) ^ mult2(valor) ^ valor\n",
        "\telif(coef == 13):\n",
        "\t\tvalue_returned = mult8(valor) ^ mult4(valor) ^ valor\n",
        "\telif(coef == 14):\n",
        "\t\tvalue_returned = mult8(valor) ^ mult4(valor) ^ mult2(valor)\n",
        "\treturn value_returned\n",
        "\n",
        "def calcElement(coef, matriz, linha, coluna):\n",
        "\treturn mult( coef[linha][0], matriz[coluna][0] ) ^ mult( coef[linha][1], matriz[coluna][1] ) ^ mult( coef[linha][2], matriz[coluna][2] ) ^ mult( coef[linha][3], matriz[coluna][3] )\n",
        "\n",
        "def mixColumns(matriz):\n",
        "\tcoef = [ [2,3,1,1],[1,2,3,1],[1,1,2,3],[3,1,1,2] ]\n",
        "\tmatriz_returned = []\n",
        "\tfor coluna in range(4):\n",
        "\t\tlinha = []\n",
        "\t\tfor num_linha in range(4):\n",
        "\t\t\tlinha += [calcElement(coef, matriz, num_linha, coluna)]\n",
        "\t\tmatriz_returned += [linha]\n",
        "\treturn matriz_returned\n",
        "\n",
        "def initialTransformation(text, key):\n",
        "\treturn addRoundKey(text, key[0])\n",
        "\n",
        "def aesRound(text, key, round):\n",
        "\tsubst_text = subBytes(text)\n",
        "\tshift_text = shiftRow(subst_text)\n",
        "\tmix_text = mixColumns(shift_text)\n",
        "\treturn addRoundKey(mix_text, key[round])\n",
        "\n",
        "def lastRound(text, key):\n",
        "\tsubst_text = subBytes(text)\n",
        "\tshift_text = shiftRow(subst_text)\n",
        "\treturn addRoundKey(shift_text, key[10])\n"
      ],
      "metadata": {
        "id": "6PszRBqjjLYB"
      },
      "execution_count": null,
      "outputs": []
    },
    {
      "cell_type": "code",
      "source": [
        "#@title\n",
        "def invMixColumns(text):\n",
        "\tcoef = [ [14,11,13,9],[9,14,11,13],[13,9,14,11],[11,13,9,14] ]\n",
        "\tmatriz_returned = []\n",
        "\tfor coluna in range(4):\n",
        "\t\tlinha = []\n",
        "\t\tfor num_linha in range(4):\n",
        "\t\t\tlinha += [calcElement(coef, text, num_linha, coluna)]\n",
        "\t\tmatriz_returned += [linha]\n",
        "\treturn matriz_returned\n",
        "\n",
        "def invShiftRow(text):\n",
        "\tlinha1 = [text[0][0], text[3][1], text[2][2], text[1][3] ]\n",
        "\tlinha2 = [text[1][0], text[0][1], text[3][2], text[2][3] ]\n",
        "\tlinha3 = [text[2][0], text[1][1], text[0][2], text[3][3] ]\n",
        "\tlinha4 = [text[3][0], text[2][1], text[1][2], text[0][3] ]\n",
        "\treturn [linha1,linha2,linha3,linha4]\n",
        "\n",
        "def invSubBytes(text):\n",
        "\tfor linha in range(4):\n",
        "\t\tfor coluna in range(4):\n",
        "\t\t\ttext[linha][coluna] = invSbox(text[linha][coluna])\n",
        "\treturn text\n",
        "\n",
        "def inverseInitialTransformation(text, key):\n",
        "\treturn addRoundKey(text, key[10])\n",
        "\n",
        "def inverseAesRound(text, key, round):\n",
        "\tshift_text = invShiftRow(text)\n",
        "\tsubst_text = invSubBytes(shift_text)\n",
        "\txored_text = addRoundKey(subst_text, key[round])\n",
        "\treturn invMixColumns(xored_text)\n",
        "\n",
        "def inverseLastRound(text, key):\n",
        "\tshift_text = invShiftRow(text)\n",
        "\tsubst_text = invSubBytes(shift_text)\n",
        "\treturn addRoundKey(subst_text, key[0])\n",
        " \n",
        "def toBinary(a):\n",
        "  l,m=[],[]\n",
        "  for i in a:\n",
        "    l.append(ord(i))\n",
        "  for i in l:\n",
        "    m.append(int(bin(i)[2:]))\n",
        "  return m\n"
      ],
      "metadata": {
        "id": "ydb4uDkGj7wK",
        "cellView": "form"
      },
      "execution_count": null,
      "outputs": []
    },
    {
      "cell_type": "code",
      "source": [
        "## =======================================================================\n",
        "# Criptograr \n",
        "def aesCipher(text,key):\n",
        "\t#converte as entradas para matrizes\n",
        "\ttext = transformToMatriz(text)\n",
        "\tkey = transformToMatriz(key)\n",
        "\t#come�a o algoritmo de fato\n",
        "\tkey_expanded = keyExpansion(key)\n",
        "\ttext = initialTransformation(text, key_expanded)\n",
        "\tfor i in range(1,10):\n",
        "\t\ttext = aesRound(text, key_expanded, i)\n",
        "\tcipherMatriz = lastRound(text, key_expanded)\n",
        "\treturn transformToString(cipherMatriz)\n",
        "\n",
        "## =======================================================================\n",
        "# Decriptograr\n",
        "def aesDecipher(text,key):\n",
        "\t#converte as entradas para matrizes\n",
        "\ttext = transformToMatriz(text)\n",
        "\tkey = transformToMatriz(key)\n",
        "\t#come�a o algoritmo de fato\n",
        "\tkey_expanded = keyExpansion(key)\n",
        "\ttext = inverseInitialTransformation(text, key_expanded)\n",
        "\tfor i in [9,8,7,6,5,4,3,2,1]:\n",
        "\t\ttext = inverseAesRound(text, key_expanded, i)\n",
        "\tcipherMatriz = inverseLastRound(text, key_expanded)\n",
        "\treturn transformToString(cipherMatriz)"
      ],
      "metadata": {
        "id": "R0YZMfecj-Fp"
      },
      "execution_count": null,
      "outputs": []
    },
    {
      "cell_type": "code",
      "source": [
        "#        0123456789abcdef\n",
        "data = b'secrets of night'\n",
        "key  = b'\\x00\\x01\\x02\\x03\\x04\\x05\\x06\\x07\\x08\\x09\\x0a\\x0b\\x0c\\x0d\\x0e\\x0f'\n",
        "iv   = b'\\0'*16\n",
        "\n",
        "text_cifrado = aesCipher(data.decode(), key.decode())\n",
        "\n",
        "text_decifrado = aesDecipher(text_cifrado, key.decode())\n",
        "\n",
        "print(f\"Texto cifrado   : {len(text_cifrado):03d} : {str.encode(text_cifrado).hex()}\")\n",
        "print(f\"Texto decifrado : {len(text_decifrado):03d} : {text_decifrado}\" )\n"
      ],
      "metadata": {
        "colab": {
          "base_uri": "https://localhost:8080/"
        },
        "outputId": "1cf18239-776d-45e3-f055-211b33647ac1",
        "id": "7_i8MnibnFxl"
      },
      "execution_count": null,
      "outputs": [
        {
          "output_type": "stream",
          "name": "stdout",
          "text": [
            "Texto cifrado   : 016 : 337b1a5cc3a27cc289091dc2a82c52c3aec38428c3b4\n",
            "Texto decifrado : 016 : secrets of night\n"
          ]
        }
      ]
    },
    {
      "cell_type": "code",
      "source": [
        "from Crypto.Cipher import AES\n",
        "from Crypto.Random import get_random_bytes\n",
        "from Crypto.Util import Counter\n",
        "\n",
        "#        0123456789abcdef\n",
        "data = b'secrets of nightsecrets of night'\n",
        "key  = b'\\x00\\x01\\x02\\x03\\x04\\x05\\x06\\x07\\x08\\x09\\x0a\\x0b\\x0c\\x0d\\x0e\\x0f'\n",
        "iv   = b'\\0'*16\n",
        "#iv   = b'\\x74\\x01\\x02\\x03\\x32\\x05\\x06\\x07\\x08\\x09\\x0a\\x0b\\x0c\\x0d\\x0e\\x0f'\n",
        "ctr  = Counter.new(128)\n",
        "ctr['initial_value'] =2\n",
        "#Choose the cipher MODE:\n",
        "mode = AES.MODE_CBC\n",
        "\n",
        "if mode == AES.MODE_CBC:\n",
        "  cipher   = AES.new(key, AES.MODE_CBC,iv)\n",
        "  decipher = cipher\n",
        "elif mode == AES.MODE_ECB:\n",
        "  cipher  = AES.new(key, AES.MODE_ECB)\n",
        "  decifer = cipher\n",
        "elif mode == AES.MODE_CTR:\n",
        "  cipher   = AES.new(key, AES.MODE_CTR, counter=ctr)\n",
        "  print(ctr)\n",
        "\n",
        "ciphertext2 = cipher.encrypt(data)\n",
        "\n",
        "\n",
        "if mode == AES.MODE_CBC:\n",
        "  decipher = AES.new(key, AES.MODE_CBC,iv)\n",
        "elif mode == AES.MODE_ECB:\n",
        "  decipher = AES.new(key, AES.MODE_ECB)\n",
        "elif mode == AES.MODE_CTR:\n",
        "  decipher = AES.new(key, AES.MODE_CTR, counter=ctr)\n",
        "  print(ctr)\n",
        "deciphertext2 = decipher.decrypt(ciphertext2)\n",
        "\n",
        "print(f\"Texto legível: {len(ciphertext2):03d} : {ciphertext2.hex()}\")\n",
        "print(f\"Texto legível: {len(deciphertext2):03d} : {deciphertext2}\")\n"
      ],
      "metadata": {
        "colab": {
          "base_uri": "https://localhost:8080/"
        },
        "id": "mbBP-ni8211y",
        "outputId": "50da0833-4d3e-45c9-831a-1f033894ff33"
      },
      "execution_count": null,
      "outputs": [
        {
          "output_type": "stream",
          "name": "stdout",
          "text": [
            "Texto legível: 032 : 337b1a5ce27c89091da82c52eec428f4f7d092417806880c32b0dbef333ab279\n",
            "Texto legível: 032 : b'secrets of nightsecrets of night'\n"
          ]
        }
      ]
    }
  ]
}